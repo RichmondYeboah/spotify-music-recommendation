{
 "cells": [
  {
   "cell_type": "code",
   "execution_count": 1,
   "metadata": {},
   "outputs": [],
   "source": [
    "# Load packages files\n",
    "from dotenv import load_dotenv\n",
    "import os\n",
    "import base64 \n",
    "from requests import post, get\n",
    "import json\n"
   ]
  },
  {
   "cell_type": "code",
   "execution_count": 3,
   "metadata": {},
   "outputs": [],
   "source": [
    "load_dotenv()\n",
    "\n",
    "client_id = os.getenv(\"CLIENT_ID\")\n",
    "client_secret = os.getenv(\"CLIENT_SECRET\")\n",
    "\n",
    "def get_token():\n",
    "    # Retrieve authurization token\n",
    "    auth_string = client_id + ':' + client_secret\n",
    "    auth_bytes = auth_string.encode(\"utf-8\")\n",
    "    auth_base64 = str(base64.b64encode(auth_bytes), \"utf-8\")\n",
    "\n",
    "    url = \"https://accounts.spotify.com/api/token\"\n",
    "    headers = {\n",
    "        \"Authorization\": \"Basic \" + auth_base64,\n",
    "        \"Content-Type\" : \"application/x-www-form-urlencoded\"\n",
    "    }\n",
    "    data = {\"grant_type\": \"client_credentials\"}\n",
    "    result = post(url, headers=headers, data=data)\n",
    "    json_result = json.loads(result.content)\n",
    "    token = json_result[\"access_token\"]\n",
    "    return token\n",
    "\n",
    "def get_auth_header(token):\n",
    "    return {\"Authorization\": \"Bearer \" + token}"
   ]
  },
  {
   "cell_type": "code",
   "execution_count": 5,
   "metadata": {},
   "outputs": [],
   "source": [
    "# Retrieve authenication token\n",
    "# print(get_token())"
   ]
  },
  {
   "cell_type": "code",
   "execution_count": 6,
   "metadata": {},
   "outputs": [],
   "source": [
    "def search_for_artist(token, artist_name):\n",
    "    url = \"https://api.spotify.com/v1/search\"\n",
    "    headers = get_auth_header(token)\n",
    "    # pass in the requested query\n",
    "    query = f\"?q={artist_name}&type=artist&limit=1\"\n",
    "\n",
    "    query_url = url + query \n",
    "    result = get(query_url, headers=headers)\n",
    "\n",
    "    # Parse results to json\n",
    "    json_result = json.loads(result.content)[\"artists\"][\"items\"]\n",
    "\n",
    "    if len(json_result) == 0:\n",
    "        print(\"No artist with this name exists...\")\n",
    "        return None\n",
    "    \n",
    "    return json_result[0]"
   ]
  },
  {
   "cell_type": "code",
   "execution_count": 7,
   "metadata": {},
   "outputs": [
    {
     "name": "stdout",
     "output_type": "stream",
     "text": [
      "Artist name: Kirk Franklin \n",
      "Genres: gospel | gospel r&b \n",
      "Top 10 songs:\n",
      "\n",
      "1. TOGETHER\n",
      "2. Love Theory\n",
      "3. I Smile\n",
      "4. Kingdom\n",
      "5. Bless Me\n",
      "6. Fear Is Not My Future (feat. Brandon Lake)\n",
      "7. Brighter Day - Live at Lakewood Church, Houston, TX - June 16, 2000\n",
      "8. Imagine Me\n",
      "9. All Things\n",
      "10. Revolution\n"
     ]
    }
   ],
   "source": [
    "def get_songs_by_artist(token, artist_id):\n",
    "    # Create a functions to get songs from an artist\n",
    "    url = f\"https://api.spotify.com/v1/artists/{artist_id}/top-tracks?country=US\"\n",
    "    headers = get_auth_header(token)\n",
    "    result = get(url, headers=headers)\n",
    "    json_result = json.loads(result.content)[\"tracks\"]\n",
    "    return json_result\n",
    "\n",
    "token = get_token()\n",
    "result = search_for_artist(token, \"kirk+franklin\")\n",
    "artist_id = result[\"id\"]\n",
    "songs = get_songs_by_artist(token, artist_id)\n",
    "\n",
    "artist_name = result[\"name\"]\n",
    "song_genre = result[\"genres\"]\n",
    "\n",
    "list_as_string = ' | '.join(map(str, song_genre))\n",
    "print(f'Artist name: {artist_name} \\nGenres: {list_as_string} \\nTop 10 songs:\\n')\n",
    "\n",
    "for idx, song in enumerate(songs):\n",
    "    print(f\"{idx +1}. {song['name']}\")\n"
   ]
  }
 ],
 "metadata": {
  "kernelspec": {
   "display_name": "python_env",
   "language": "python",
   "name": "python3"
  },
  "language_info": {
   "codemirror_mode": {
    "name": "ipython",
    "version": 3
   },
   "file_extension": ".py",
   "mimetype": "text/x-python",
   "name": "python",
   "nbconvert_exporter": "python",
   "pygments_lexer": "ipython3",
   "version": "3.10.2"
  },
  "orig_nbformat": 4
 },
 "nbformat": 4,
 "nbformat_minor": 2
}
